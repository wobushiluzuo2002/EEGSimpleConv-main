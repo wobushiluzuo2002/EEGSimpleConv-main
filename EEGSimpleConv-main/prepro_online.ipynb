{
 "cells": [
  {
   "cell_type": "code",
   "execution_count": 1,
   "id": "2de6f825-dc3b-42e2-866b-13cd92321bc9",
   "metadata": {
    "tags": []
   },
   "outputs": [],
   "source": [
    "import torch\n",
    "\n",
    "from scipy.linalg import sqrtm, inv,pinv\n",
    "\n",
    "def compute_r_op(X):\n",
    "    r = torch.einsum('bet, tab -> bea',X,X.T).mean(0)\n",
    "    r_op = torch.from_numpy(inv(sqrtm(r)))\n",
    "    return r_op\n",
    "\n",
    "def prepro_EA_online_ft(X_,dataset):\n",
    "    X_list = []\n",
    "    Y_list = []\n",
    "    sep = 2 if dataset=='Large' else 1\n",
    "    for X_sub in X_:\n",
    "        X_list_sub = []\n",
    "        sqrt_R_s = compute_r_op(torch.cat(X_sub[:sep])).float()\n",
    "        for X_sess in X_sub:\n",
    "            X_s = X_sess.float()\n",
    "            X_list_sub.append(torch.einsum(\"fe,bet->bft\",sqrt_R_s, X_s))\n",
    "        X_list.append(X_list_sub)\n",
    "    return X_list"
   ]
  },
  {
   "cell_type": "code",
   "execution_count": 2,
   "id": "5b18a462-7e64-43a0-aa25-54e590865d36",
   "metadata": {
    "tags": []
   },
   "outputs": [],
   "source": [
    "path = '/users/local/simpleconv_datasets/'"
   ]
  },
  {
   "cell_type": "code",
   "execution_count": 3,
   "id": "cfa6c897-fd55-4158-8d51-4d31756c0e4f",
   "metadata": {},
   "outputs": [
    {
     "name": "stderr",
     "output_type": "stream",
     "text": [
      "/tmp/ipykernel_1511283/2433316827.py:6: UserWarning: The use of `x.T` on tensors of dimension other than 2 to reverse their shape is deprecated and it will throw an error in a future release. Consider `x.mT` to transpose batches of matrices or `x.permute(*torch.arange(x.ndim - 1, -1, -1))` to reverse the dimensions of a tensor. (Triggered internally at ../aten/src/ATen/native/TensorShape.cpp:3571.)\n",
      "  r = torch.einsum('bet, tab -> bea',X,X.T).mean(0)\n"
     ]
    }
   ],
   "source": [
    "for d in ['BNCI','Zhou']:\n",
    "    X = torch.load(path+d+'/X_s.pt')\n",
    "    X_EA_s = prepro_EA_online_ft(X,d)\n",
    "    torch.save(X_EA_s,path+d+'/X_EA_online_ft.pt')"
   ]
  }
 ],
 "metadata": {
  "kernelspec": {
   "display_name": "env_yass",
   "language": "python",
   "name": "env_yass"
  },
  "language_info": {
   "codemirror_mode": {
    "name": "ipython",
    "version": 3
   },
   "file_extension": ".py",
   "mimetype": "text/x-python",
   "name": "python",
   "nbconvert_exporter": "python",
   "pygments_lexer": "ipython3",
   "version": "3.10.12"
  }
 },
 "nbformat": 4,
 "nbformat_minor": 5
}
