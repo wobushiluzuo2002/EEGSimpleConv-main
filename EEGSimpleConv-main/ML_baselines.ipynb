{
 "cells": [
  {
   "cell_type": "code",
   "execution_count": 1,
   "id": "6c59bc8c-0f2f-4302-b66d-89c4e5be1416",
   "metadata": {
    "tags": []
   },
   "outputs": [],
   "source": [
    "from sklearn.metrics import accuracy_score#(y_true, y_pred,\n",
    "from pyriemann.tangentspace import TangentSpace\n",
    "from pyriemann.estimation import Covariances\n",
    "from mne.decoding import CSP\n",
    "from sklearn.discriminant_analysis import LinearDiscriminantAnalysis\n",
    "from mne.filter import filter_data\n",
    "import pandas as pd\n",
    "from mrmr import mrmr_classif\n",
    "\n",
    "import mne\n",
    "mne.set_log_level('ERROR')"
   ]
  },
  {
   "cell_type": "markdown",
   "id": "7c1318ac-d8f4-4f20-8306-193301d29e15",
   "metadata": {},
   "source": [
    "# Load the data"
   ]
  },
  {
   "cell_type": "code",
   "execution_count": 2,
   "id": "13c1cfe6-99d9-4304-a05f-b8816e1381e8",
   "metadata": {
    "tags": []
   },
   "outputs": [
    {
     "name": "stdout",
     "output_type": "stream",
     "text": [
      "Sampling Freq: 250\n"
     ]
    }
   ],
   "source": [
    "from scripts.scripts import *\n",
    "dict_config = { \n",
    "'model':'EEGSimpleConv',\n",
    "'params':[84,1,95,13],\n",
    "'dataset':'BNCI',\n",
    "'EA':False,\n",
    "'EOG':False,\n",
    "'Z':'Z0',\n",
    "'path':'/users/local/simpleconv_datasets',\n",
    "'lmso':False,\n",
    "'session':True,\n",
    "'reg_subject':False,\n",
    "'use_wandb':False,\n",
    "'evaluation':'within',\n",
    "'within':True,\n",
    "'mdl':False,\n",
    "'filter':0.5,\n",
    "}  \n",
    "\n",
    "    \n",
    "    \n",
    "X,Y = load_data(dict_config)"
   ]
  },
  {
   "cell_type": "markdown",
   "id": "6fc746a5-c66d-46af-8933-12e8b3250b95",
   "metadata": {},
   "source": [
    "# CSP"
   ]
  },
  {
   "cell_type": "code",
   "execution_count": 3,
   "id": "5c5d90a4-bb84-4757-ab15-1857c88d6bbb",
   "metadata": {
    "tags": []
   },
   "outputs": [
    {
     "name": "stdout",
     "output_type": "stream",
     "text": [
      "S0: 68.06\n",
      "S1: 52.78\n",
      "S2: 73.61\n",
      "S3: 53.12\n",
      "S4: 27.78\n",
      "S5: 42.36\n",
      "S6: 55.56\n",
      "S7: 71.53\n",
      "S8: 74.31\n"
     ]
    }
   ],
   "source": [
    "acc_model = []\n",
    "for s in range(len(X)):\n",
    "    data_train = X[s][0].numpy().astype(np.double)\n",
    "    y_train = Y[s][0].numpy() # labels\n",
    "    data_test  = X[s][1].numpy().astype(np.double)\n",
    "    y_test  = Y[s][1].numpy()\n",
    "    data_train = mne.filter.filter_data(data_train, 250, 4, 40)\n",
    "    data_test = mne.filter.filter_data(data_test, 250, 4, 40)\n",
    "    csp = CSP(n_components=12)\n",
    "    data_train = csp.fit_transform(data_train.astype(np.double),y_train.astype(np.double))\n",
    "    data_test = csp.transform(data_test)\n",
    "    model = LinearDiscriminantAnalysis(shrinkage='auto', solver='lsqr')\n",
    "    model.fit(data_train,y_train)\n",
    "    y_pred = model.predict(data_test)\n",
    "    acc = accuracy_score(y_pred,y_test)\n",
    "    acc_model.append(acc)\n",
    "    print('S'+str(s)+':',round(acc*100,2))"
   ]
  },
  {
   "cell_type": "code",
   "execution_count": 4,
   "id": "f7a42873-1d73-4332-bdc7-eface95cf245",
   "metadata": {
    "tags": []
   },
   "outputs": [
    {
     "name": "stdout",
     "output_type": "stream",
     "text": [
      "Avg accuracy: 57.68 ± 14.94\n"
     ]
    }
   ],
   "source": [
    "print('Avg accuracy:',round(np.array(acc_model).mean()*100,2),'±',round(np.array(acc_model).std()*100,2))"
   ]
  },
  {
   "cell_type": "markdown",
   "id": "e3b163a7-32b5-46a8-b4d8-154dba559032",
   "metadata": {},
   "source": [
    "# FBCSP"
   ]
  },
  {
   "cell_type": "code",
   "execution_count": 5,
   "id": "ac504bbe-5e47-4246-a708-8acf8a03ed63",
   "metadata": {
    "tags": []
   },
   "outputs": [],
   "source": [
    "def filter_bank(data,sfreq):\n",
    "    bank = []\n",
    "    for i in np.arange(4,40,4):\n",
    "        bank.append(mne.filter.filter_data(data, sfreq, i, i+4,method='iir'))\n",
    "    return bank\n",
    "\n",
    "def csp_bank(data_train,labels_train,data_test):\n",
    "    csp = CSP(n_components=4)\n",
    "    csp_train = csp.fit_transform(data_train,labels_train)\n",
    "    csp_test = csp.transform(data_test)\n",
    "    return csp_train,csp_test"
   ]
  },
  {
   "cell_type": "code",
   "execution_count": 6,
   "id": "9370b3c3-d82c-4aec-855a-24bfe053552d",
   "metadata": {
    "tags": []
   },
   "outputs": [],
   "source": [
    "train_bank = []\n",
    "test_bank = []\n",
    "for i in range(9):\n",
    "    train_bank.append(filter_bank(X[i][0].numpy().astype(np.double),250))\n",
    "    test_bank.append(filter_bank(X[i][1].numpy().astype(np.double),250))"
   ]
  },
  {
   "cell_type": "code",
   "execution_count": 7,
   "id": "94cab767-a1bf-43e8-8a1b-4283a34f9655",
   "metadata": {
    "tags": []
   },
   "outputs": [
    {
     "name": "stderr",
     "output_type": "stream",
     "text": [
      "100%|█████████████████████████████████████████████████████████████████████████████████████████████████████████████████████████████████████████████████████████████████████| 18/18 [00:03<00:00,  4.69it/s]\n"
     ]
    },
    {
     "name": "stdout",
     "output_type": "stream",
     "text": [
      "S0: 75.35\n"
     ]
    },
    {
     "name": "stderr",
     "output_type": "stream",
     "text": [
      "100%|█████████████████████████████████████████████████████████████████████████████████████████████████████████████████████████████████████████████████████████████████████| 18/18 [00:04<00:00,  4.36it/s]\n"
     ]
    },
    {
     "name": "stdout",
     "output_type": "stream",
     "text": [
      "S1: 56.25\n"
     ]
    },
    {
     "name": "stderr",
     "output_type": "stream",
     "text": [
      "100%|█████████████████████████████████████████████████████████████████████████████████████████████████████████████████████████████████████████████████████████████████████| 18/18 [00:03<00:00,  5.13it/s]\n"
     ]
    },
    {
     "name": "stdout",
     "output_type": "stream",
     "text": [
      "S2: 78.82\n"
     ]
    },
    {
     "name": "stderr",
     "output_type": "stream",
     "text": [
      "100%|█████████████████████████████████████████████████████████████████████████████████████████████████████████████████████████████████████████████████████████████████████| 18/18 [00:03<00:00,  4.90it/s]\n"
     ]
    },
    {
     "name": "stdout",
     "output_type": "stream",
     "text": [
      "S3: 64.58\n"
     ]
    },
    {
     "name": "stderr",
     "output_type": "stream",
     "text": [
      "100%|█████████████████████████████████████████████████████████████████████████████████████████████████████████████████████████████████████████████████████████████████████| 18/18 [00:03<00:00,  4.90it/s]\n"
     ]
    },
    {
     "name": "stdout",
     "output_type": "stream",
     "text": [
      "S4: 50.69\n"
     ]
    },
    {
     "name": "stderr",
     "output_type": "stream",
     "text": [
      "100%|█████████████████████████████████████████████████████████████████████████████████████████████████████████████████████████████████████████████████████████████████████| 18/18 [00:03<00:00,  5.06it/s]\n"
     ]
    },
    {
     "name": "stdout",
     "output_type": "stream",
     "text": [
      "S5: 47.22\n"
     ]
    },
    {
     "name": "stderr",
     "output_type": "stream",
     "text": [
      "100%|█████████████████████████████████████████████████████████████████████████████████████████████████████████████████████████████████████████████████████████████████████| 18/18 [00:03<00:00,  5.01it/s]\n"
     ]
    },
    {
     "name": "stdout",
     "output_type": "stream",
     "text": [
      "S6: 74.31\n"
     ]
    },
    {
     "name": "stderr",
     "output_type": "stream",
     "text": [
      "100%|█████████████████████████████████████████████████████████████████████████████████████████████████████████████████████████████████████████████████████████████████████| 18/18 [00:03<00:00,  4.99it/s]\n"
     ]
    },
    {
     "name": "stdout",
     "output_type": "stream",
     "text": [
      "S7: 63.19\n"
     ]
    },
    {
     "name": "stderr",
     "output_type": "stream",
     "text": [
      "100%|█████████████████████████████████████████████████████████████████████████████████████████████████████████████████████████████████████████████████████████████████████| 18/18 [00:03<00:00,  4.90it/s]"
     ]
    },
    {
     "name": "stdout",
     "output_type": "stream",
     "text": [
      "S8: 63.19\n"
     ]
    },
    {
     "name": "stderr",
     "output_type": "stream",
     "text": [
      "\n"
     ]
    }
   ],
   "source": [
    "list_acc_fbcsp = []\n",
    "\n",
    "for i in range(9):\n",
    "    eeg_y_train = Y[i][0].numpy().astype(np.double)\n",
    "    eeg_y_test = Y[i][1].numpy().astype(np.double)\n",
    "    fbank_train = train_bank[i]\n",
    "    fbank_test = test_bank[i]\n",
    "    cspbank_train_ = []\n",
    "    cspbank_test_ = []\n",
    "    for b_tr,b_te in zip(fbank_train,fbank_test):\n",
    "        tr,te = csp_bank(b_tr,eeg_y_train,b_te)\n",
    "        cspbank_train_.append(tr)\n",
    "        cspbank_test_.append(te)\n",
    "        \n",
    "    cspbank_train = np.concatenate(cspbank_train_,1)\n",
    "    cspbank_test = np.concatenate(cspbank_test_,1)\n",
    "    \n",
    "    selected_features = mrmr_classif(X=pd.DataFrame(cspbank_train), y=eeg_y_train, K=18)\n",
    "    model = LinearDiscriminantAnalysis(shrinkage='auto', solver='lsqr')\n",
    "    x_train =cspbank_train[:,selected_features]\n",
    "    x_test =cspbank_test[:,selected_features]\n",
    "    model.fit(x_train,eeg_y_train)\n",
    "    y_pred = model.predict(x_test)\n",
    "    acc = accuracy_score(y_pred,eeg_y_test)\n",
    "    print('S'+str(i)+':',round(acc*100,2))\n",
    "    list_acc_fbcsp.append(acc)"
   ]
  },
  {
   "cell_type": "code",
   "execution_count": 8,
   "id": "0e032e6f-bb7b-401e-81e0-88ba5be97a5d",
   "metadata": {
    "tags": []
   },
   "outputs": [
    {
     "name": "stdout",
     "output_type": "stream",
     "text": [
      "Avg accuracy: 63.73 ± 10.4\n"
     ]
    }
   ],
   "source": [
    "print('Avg accuracy:',round(np.array(list_acc_fbcsp).mean()*100,2),'±',round(np.array(list_acc_fbcsp).std()*100,2))"
   ]
  },
  {
   "cell_type": "markdown",
   "id": "42240bc4-50dc-4c02-9b0d-6eee7db929c5",
   "metadata": {},
   "source": [
    "# TS+LDA"
   ]
  },
  {
   "cell_type": "code",
   "execution_count": 9,
   "id": "5e6127b7-07f9-48f5-88e9-4d2a02e66086",
   "metadata": {
    "tags": []
   },
   "outputs": [
    {
     "name": "stdout",
     "output_type": "stream",
     "text": [
      "S0: 77.43\n",
      "S1: 52.78\n",
      "S2: 84.03\n",
      "S3: 60.07\n",
      "S4: 47.92\n",
      "S5: 49.31\n",
      "S6: 64.24\n",
      "S7: 73.96\n",
      "S8: 78.82\n"
     ]
    }
   ],
   "source": [
    "cov = Covariances(estimator ='oas')\n",
    "acc_model = []\n",
    "for s in range(len(X)):\n",
    "    X_train = X[s][0].numpy()\n",
    "    y_train = Y[s][0].numpy() # labels\n",
    "    X_test  = X[s][1].numpy()\n",
    "    y_test  = Y[s][1].numpy()\n",
    "    X_train = filter_data(X_train.astype(float),250,7,35)\n",
    "    X_test = filter_data(X_test.astype(float),250,7,35)\n",
    "    cov_train = cov.fit_transform(X_train)\n",
    "    cov_test = cov.transform(X_test)\n",
    "    ts = TangentSpace()\n",
    "    train_ts = ts.fit_transform(cov_train)\n",
    "    test_ts = ts.transform(cov_test)\n",
    "    model = LinearDiscriminantAnalysis(shrinkage='auto', solver='eigen')\n",
    "    model.fit(train_ts,y_train)\n",
    "    y_pred = model.predict(test_ts)\n",
    "    acc = accuracy_score(y_pred,y_test)\n",
    "    print('S'+str(s)+':',round(acc*100,2))\n",
    "    acc_model.append(acc)"
   ]
  },
  {
   "cell_type": "code",
   "execution_count": 10,
   "id": "162f8f6e-9dcb-47fd-9fc3-b0517b4a4068",
   "metadata": {
    "tags": []
   },
   "outputs": [
    {
     "name": "stdout",
     "output_type": "stream",
     "text": [
      "Avg accuracy: 65.39 ± 12.9\n"
     ]
    }
   ],
   "source": [
    "print('Avg accuracy:',round(np.array(acc_model).mean()*100,2),'±',round(np.array(acc_model).std()*100,2))"
   ]
  }
 ],
 "metadata": {
  "kernelspec": {
   "display_name": "env_yass",
   "language": "python",
   "name": "env_yass"
  },
  "language_info": {
   "codemirror_mode": {
    "name": "ipython",
    "version": 3
   },
   "file_extension": ".py",
   "mimetype": "text/x-python",
   "name": "python",
   "nbconvert_exporter": "python",
   "pygments_lexer": "ipython3",
   "version": "3.10.12"
  }
 },
 "nbformat": 4,
 "nbformat_minor": 5
}
